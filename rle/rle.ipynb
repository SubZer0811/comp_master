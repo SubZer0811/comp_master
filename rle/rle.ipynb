{
 "metadata": {
  "language_info": {
   "codemirror_mode": {
    "name": "ipython",
    "version": 3
   },
   "file_extension": ".py",
   "mimetype": "text/x-python",
   "name": "python",
   "nbconvert_exporter": "python",
   "pygments_lexer": "ipython3",
   "version": "3.6.9-final"
  },
  "orig_nbformat": 2,
  "kernelspec": {
   "name": "python36964bitb5d6d5e7cf67488b8bbdf8781f1ada76",
   "display_name": "Python 3.6.9 64-bit"
  }
 },
 "nbformat": 4,
 "nbformat_minor": 2,
 "cells": [
  {
   "cell_type": "code",
   "execution_count": 30,
   "metadata": {},
   "outputs": [
    {
     "output_type": "stream",
     "name": "stdout",
     "text": [
      "9 b'a'\n9 b'a'\n9 b'a'\n9 b'a'\n1 b's'\n1 b'd'\n4 b'f'\n4 b'a'\n"
     ]
    }
   ],
   "source": [
    "inp = open(\"source.txt\", 'rb')\n",
    "out = open(\"comp.txt\", 'wb')\n",
    "\n",
    "byte = inp.read(1)\n",
    "item = byte\n",
    "count = 0\n",
    "\n",
    "while byte:\n",
    "    if(item == byte):\n",
    "        count += 1\n",
    "        if(count > 9):\n",
    "            out.write(bytes(str(9), encoding='utf-8'))\n",
    "            out.write(item)\n",
    "            print(9, item)\n",
    "            count = 1\n",
    "    else:\n",
    "        out.write(bytes(str(count), encoding='utf-8'))\n",
    "        out.write(item)\n",
    "        print(count, item)\n",
    "        item = byte\n",
    "        count = 1\n",
    "    byte = inp.read(1)\n",
    "\n",
    "out.write(bytes(str(count), encoding='utf-8'))\n",
    "out.write(item)\n",
    "print(count, item)\n",
    "\n",
    "out.close()\n",
    "inp.close()"
   ]
  },
  {
   "cell_type": "code",
   "execution_count": 40,
   "metadata": {},
   "outputs": [
    {
     "output_type": "stream",
     "name": "stdout",
     "text": [
      "9\nb'a'\nb'a'\nb'a'\nb'a'\nb'a'\nb'a'\nb'a'\nb'a'\nb'a'\n9\nb'a'\nb'a'\nb'a'\nb'a'\nb'a'\nb'a'\nb'a'\nb'a'\nb'a'\n9\nb'a'\nb'a'\nb'a'\nb'a'\nb'a'\nb'a'\nb'a'\nb'a'\nb'a'\n"
     ]
    },
    {
     "output_type": "error",
     "ename": "ValueError",
     "evalue": "invalid literal for int() with base 10: 'a'",
     "traceback": [
      "\u001b[0;31m---------------------------------------------------------------------------\u001b[0m",
      "\u001b[0;31mValueError\u001b[0m                                Traceback (most recent call last)",
      "\u001b[0;32m<ipython-input-40-78e549bdea9c>\u001b[0m in \u001b[0;36m<module>\u001b[0;34m\u001b[0m\n\u001b[1;32m     12\u001b[0m         \u001b[0mcount\u001b[0m \u001b[0;34m-=\u001b[0m \u001b[0;36m1\u001b[0m\u001b[0;34m\u001b[0m\u001b[0;34m\u001b[0m\u001b[0m\n\u001b[1;32m     13\u001b[0m \u001b[0;34m\u001b[0m\u001b[0m\n\u001b[0;32m---> 14\u001b[0;31m     \u001b[0mcount\u001b[0m \u001b[0;34m=\u001b[0m \u001b[0mint\u001b[0m\u001b[0;34m(\u001b[0m\u001b[0menc\u001b[0m\u001b[0;34m.\u001b[0m\u001b[0mread\u001b[0m\u001b[0;34m(\u001b[0m\u001b[0;36m1\u001b[0m\u001b[0;34m)\u001b[0m\u001b[0;34m.\u001b[0m\u001b[0mdecode\u001b[0m\u001b[0;34m(\u001b[0m\u001b[0;34m'utf-8'\u001b[0m\u001b[0;34m)\u001b[0m\u001b[0;34m)\u001b[0m\u001b[0;34m\u001b[0m\u001b[0;34m\u001b[0m\u001b[0m\n\u001b[0m\u001b[1;32m     15\u001b[0m     \u001b[0mitem\u001b[0m \u001b[0;34m=\u001b[0m \u001b[0menc\u001b[0m\u001b[0;34m.\u001b[0m\u001b[0mread\u001b[0m\u001b[0;34m(\u001b[0m\u001b[0;36m1\u001b[0m\u001b[0;34m)\u001b[0m\u001b[0;34m\u001b[0m\u001b[0;34m\u001b[0m\u001b[0m\n",
      "\u001b[0;31mValueError\u001b[0m: invalid literal for int() with base 10: 'a'"
     ]
    }
   ],
   "source": [
    "enc = open(\"comp.txt\", 'rb')\n",
    "dec = open('decomp.txt', 'wb')\n",
    "\n",
    "count = int(enc.read(1).decode('utf-8'))\n",
    "item = enc.read(1)\n",
    "\n",
    "while count:\n",
    "    print(count)\n",
    "    while count:\n",
    "        dec.write(item)\n",
    "        print(item)\n",
    "        count -= 1\n",
    "\n",
    "    count = int(enc.read(1).decode('utf-8'))\n",
    "    item = enc.read(1)\n"
   ]
  }
 ]
}